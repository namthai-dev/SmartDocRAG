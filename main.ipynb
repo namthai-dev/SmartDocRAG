{
 "cells": [
  {
   "cell_type": "markdown",
   "metadata": {},
   "source": [
    "# RAG using Llama-3"
   ]
  },
  {
   "cell_type": "markdown",
   "metadata": {},
   "source": [
    "### Loading libraries and dependencies"
   ]
  },
  {
   "cell_type": "code",
   "execution_count": 12,
   "metadata": {},
   "outputs": [],
   "source": [
    "from llama_index.core import VectorStoreIndex, SimpleDirectoryReader, Settings\n",
    "from llama_index.core import PromptTemplate\n",
    "from llama_index.embeddings.huggingface import HuggingFaceEmbedding\n",
    "from llama_index.llms.ollama import Ollama"
   ]
  },
  {
   "cell_type": "markdown",
   "metadata": {},
   "source": [
    "### Pointing the data path"
   ]
  },
  {
   "cell_type": "code",
   "execution_count": 3,
   "metadata": {},
   "outputs": [],
   "source": [
    "input_dir_path = './data'"
   ]
  },
  {
   "cell_type": "markdown",
   "metadata": {},
   "source": [
    "### Loading embedding and LLM model\n",
    "\n",
    "Check more here:\n",
    "\n",
    "- [Hugging Face Transformers](https://huggingface.co/models)\n",
    "- [Ollama ](https://ollama.io/)"
   ]
  },
  {
   "cell_type": "code",
   "execution_count": 4,
   "metadata": {},
   "outputs": [],
   "source": [
    "Settings.embed_model = HuggingFaceEmbedding(model_name=\"sentence-transformers/paraphrase-multilingual-MiniLM-L12-v2\")\n",
    "\n",
    "Settings.llm = Ollama(model=\"llama3.2:1b\", request_timeout=360.0)"
   ]
  },
  {
   "cell_type": "markdown",
   "metadata": {},
   "source": [
    "### Loading the data"
   ]
  },
  {
   "cell_type": "code",
   "execution_count": 5,
   "metadata": {},
   "outputs": [],
   "source": [
    "documents = SimpleDirectoryReader(\n",
    "                input_dir=input_dir_path,\n",
    "                required_exts=[\".pdf\"],\n",
    "                recursive=True\n",
    "            ).load_data()"
   ]
  },
  {
   "cell_type": "markdown",
   "metadata": {},
   "source": [
    "### Data embedding"
   ]
  },
  {
   "cell_type": "code",
   "execution_count": 7,
   "metadata": {},
   "outputs": [],
   "source": [
    "index = VectorStoreIndex.from_documents(\n",
    "    documents,\n",
    ")\n",
    "query_engine = index.as_query_engine()"
   ]
  },
  {
   "cell_type": "markdown",
   "metadata": {},
   "source": [
    "### Query and response"
   ]
  },
  {
   "cell_type": "code",
   "execution_count": 11,
   "metadata": {},
   "outputs": [
    {
     "name": "stdout",
     "output_type": "stream",
     "text": [
      "3.000.000đ là mức bồi thường cho bất kỳ đơn hàng nào không được giao trên đường đi hoặc bị hư hỏng trong quá trình vận chuyển mà không có sự thỏa thuận giữa hai bên.\n"
     ]
    }
   ],
   "source": [
    "response = query_engine.query(\"Hàng hóa của tôi bị thất lạc thì bồi thường bao nhiêu?\")\n",
    "print(response)"
   ]
  },
  {
   "cell_type": "markdown",
   "metadata": {},
   "source": [
    "### Adding some custom prompt"
   ]
  },
  {
   "cell_type": "code",
   "execution_count": 20,
   "metadata": {},
   "outputs": [],
   "source": [
    "qa_prompt_tmpl_str = (\"\"\"\n",
    "Thông tin ngữ cảnh được cung cấp dưới đây.  \n",
    "---------------------  \n",
    "{context_str}  \n",
    "---------------------  \n",
    "Dựa vào thông tin ngữ cảnh ở trên, hãy phân tích kỹ lưỡng và trả lời câu hỏi một cách chi tiết, ngắn gọn, và rõ ràng.  \n",
    "Câu hỏi: Vui lòng mô tả chính sách giao hàng của công ty, bao gồm:  \n",
    "1. Thời gian giao hàng.  \n",
    "2. Phí vận chuyển.  \n",
    "3. Các khu vực được giao và khu vực bị giới hạn (nếu có).\n",
    "Query: {query_str}\n",
    "Câu trả lời:                      \n",
    "\"\"\"\n",
    ")\n",
    "qa_prompt_tmpl = PromptTemplate(qa_prompt_tmpl_str)\n",
    "\n",
    "query_engine.update_prompts(\n",
    "    {\"response_synthesizer:text_qa_template\": qa_prompt_tmpl}\n",
    ")"
   ]
  },
  {
   "cell_type": "markdown",
   "metadata": {},
   "source": [
    "### Query and response"
   ]
  },
  {
   "cell_type": "code",
   "execution_count": 21,
   "metadata": {},
   "outputs": [
    {
     "name": "stdout",
     "output_type": "stream",
     "text": [
      "Thông tin ngữ cảnh cung cấp về chính sách giao hàng của SuperShip, một công ty vận chuyển hàng hóa chuyên nghiệp. Dưới đây là phân tích chi tiết về các yếu tố liên quan đến thời gian giao hàng:\n",
      "\n",
      "- **Thời gian lấy hàng**: Đây là 2 trường hợp cụ thể được đề cập trong câu trả lời.\n",
      "  - Trường hợp 1: Khi yêu cầu lấy hàng thông qua điện thoại trước 10h30, đơn hàng sẽ được giao trong khoảng 10 giờ ngày hôm đó. \n",
      "  - Trường hợp 2: Khi yêu cầu lấy hàng thông qua điện thoại trước 16h00, đơn hàng cũng sẽ được giao vào lúc 4 giờ tối đó.\n",
      "\n",
      "- **Phí vận chuyển**: Như đã đề cập trong phần 2.8 Chính sách “lưu kho”, phí lưu kho là chi phí để SuperShip hỗ trợ khách hàng lưu trữ sản phẩm miễn phí, trong trường hợp không vượt quá diện tích lưu kho 1m³ (trong trường hợp này có thể thay đổi tùy theo tình hình thực tế).\n",
      "\n",
      "- **Các khu vực được giao và khu vực bị giới hạn**: Không có thông tin cụ thể về các khu vực được giao hay bị giới hạn. Tuy nhiên, dựa trên việc phân loại các trường hợp lấy hàng và lưu kho, chúng ta có thể suy đoán rằng các khu vực sẽ được giao tập trung vào những nơi đông người dùng hoặc quan trọng nhất cho hoạt động kinh doanh của công ty.\n",
      "\n",
      "Tóm lại, thời gian giao hàng tại SuperShip phụ thuộc vào 2 trường hợp cụ thể mà khách hàng yêu cầu. Ngoài ra, chi phí vận chuyển cũng có thể thay đổi tùy theo tình hình thực tế và địa điểm giao hàng.\n"
     ]
    }
   ],
   "source": [
    "response = query_engine.query(\"Thời gian giao hàng là bao lâu?\")\n",
    "print(response)"
   ]
  }
 ],
 "metadata": {
  "kernelspec": {
   "display_name": "rag",
   "language": "python",
   "name": "python3"
  },
  "language_info": {
   "codemirror_mode": {
    "name": "ipython",
    "version": 3
   },
   "file_extension": ".py",
   "mimetype": "text/x-python",
   "name": "python",
   "nbconvert_exporter": "python",
   "pygments_lexer": "ipython3",
   "version": "3.12.7"
  }
 },
 "nbformat": 4,
 "nbformat_minor": 2
}
